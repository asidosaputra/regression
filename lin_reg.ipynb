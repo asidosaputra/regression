{
  "nbformat": 4,
  "nbformat_minor": 0,
  "metadata": {
    "colab": {
      "name": "lin_reg",
      "provenance": [],
      "collapsed_sections": [],
      "include_colab_link": true
    },
    "kernelspec": {
      "name": "python3",
      "display_name": "Python 3"
    }
  },
  "cells": [
    {
      "cell_type": "markdown",
      "metadata": {
        "id": "view-in-github",
        "colab_type": "text"
      },
      "source": [
        "<a href=\"https://colab.research.google.com/github/asidosaputra/regression/blob/master/lin_reg.ipynb\" target=\"_parent\"><img src=\"https://colab.research.google.com/assets/colab-badge.svg\" alt=\"Open In Colab\"/></a>"
      ]
    },
    {
      "cell_type": "code",
      "metadata": {
        "id": "mUyM5haHdbG1",
        "colab_type": "code",
        "colab": {}
      },
      "source": [
        "import numpy as np"
      ],
      "execution_count": 0,
      "outputs": []
    },
    {
      "cell_type": "code",
      "metadata": {
        "id": "1xFxm0pVxSbv",
        "colab_type": "code",
        "colab": {
          "base_uri": "https://localhost:8080/",
          "height": 268
        },
        "outputId": "76b94117-5fdc-461a-9c84-7f5e67c60c17"
      },
      "source": [
        "'''\n",
        "Fungsi regressi digunakan untuk menentukan nilai gradien dan konstanta dari persamaan linear\n",
        "dengan menggunakan persamaan least-square-error(LSE)\n",
        "'''\n",
        "class Linreg():\n",
        "    def __init__(self, x_data, y_data):\n",
        "        self._x_data = x_data\n",
        "        self._y_data = y_data\n",
        "        self._xbar = Linreg.mean_data(self._x_data)\n",
        "        self._ybar = Linreg.mean_data(self._y_data)\n",
        "        self._std_x = Linreg.std_data(self._x_data)\n",
        "        self._std_y = Linreg.std_data(self._y_data)\n",
        "        self.corr = Linreg.corr(\n",
        "                self._x_data, self._y_data)\n",
        "        self.coeffs = self.coeff\n",
        "        self.corr   = self.corr\n",
        "\n",
        "    def predict(self, x):\n",
        "        y_predict=[]\n",
        "        for i in x:\n",
        "            y_predict.append(self.coeffs[0]*i + self.coeffs[1])\n",
        "        \n",
        "        return y_predict\n",
        "    \n",
        "    @property\n",
        "    def coeff(self):\n",
        "        theta_1 = self.corr * (self._std_y / self._std_x)\n",
        "        theta_2 = self._ybar - theta_1 * self._xbar\n",
        "\n",
        "        coef_reg = [theta_1, theta_2]\n",
        "        return coef_reg\n",
        "    \n",
        "    @staticmethod\n",
        "    def corr(x_data, y_data):\n",
        "        xxbar_yybar = 0\n",
        "        xxbar_2 = 0\n",
        "        yybar_2 = 0\n",
        "        xbar = Linreg.mean_data(x_data)\n",
        "        ybar = Linreg.mean_data(y_data) \n",
        "\n",
        "        for x, y in zip(x_data, y_data):\n",
        "            xxbar_yybar += (x-xbar) * (y - ybar)\n",
        "            xxbar_2 += (x-xbar) ** 2\n",
        "            yybar_2 += (y-ybar) ** 2\n",
        "\n",
        "        ceoef_corr = xxbar_yybar / ((xxbar_2 ** (0.5)) * (yybar_2 ** (0.5)))\n",
        "\n",
        "        return ceoef_corr\n",
        "\n",
        "\n",
        "    @staticmethod\n",
        "    def mean_data(data):\n",
        "        sum_data = 0\n",
        "        for elemen in data:\n",
        "            sum_data += elemen\n",
        "\n",
        "        N_data = len(data)\n",
        "        coef_mean_data = sum_data/N_data\n",
        "\n",
        "        return coef_mean_data\n",
        "\n",
        "    @staticmethod\n",
        "    def std_data(data):\n",
        "        xbar = Linreg.mean_data(data)\n",
        "        N_data = len(data)\n",
        "        sum_x_xbar = 0\n",
        "        for x in data:\n",
        "            sum_x_xbar += (x-xbar) ** 2\n",
        "\n",
        "        coef_std_data = (sum_x_xbar / N_data) ** (0.5)\n",
        "\n",
        "        return coef_std_data\n",
        "\n",
        "\n",
        "if __name__ == \"__main__\":\n",
        "    import numpy as np\n",
        "    import matplotlib.pyplot as plt\n",
        "    #data\n",
        "    x_data = np.arange(1,30) \n",
        "    y_data = 2*x_data + 7 +  np.random.randn(29) \n",
        "\n",
        "    regresi = Linreg(x_data, y_data)\n",
        "\n",
        "\n",
        "    y_pred = regresi.predict(x_data)\n",
        "    coeff = regresi.coeff\n",
        "    coorr = regresi.corr\n",
        "\n",
        "\n",
        "    plt.scatter(x_data, y_data)\n",
        "    plt.plot(x_data, y_pred)\n",
        "\n",
        "\n"
      ],
      "execution_count": 68,
      "outputs": [
        {
          "output_type": "display_data",
          "data": {
            "image/png": "[encoded data removed]",
            "text/plain": [
              "<Figure size 432x288 with 1 Axes>"
            ]
          },
          "metadata": {
            "tags": []
          }
        }
      ]
    },
    {
      "cell_type": "code",
      "metadata": {
        "id": "-xiF-HY_Z3P3",
        "colab_type": "code",
        "colab": {}
      },
      "source": [
        ""
      ],
      "execution_count": 0,
      "outputs": []
    }
  ]
}